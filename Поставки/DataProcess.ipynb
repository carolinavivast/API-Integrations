{
 "cells": [
  {
   "cell_type": "code",
   "execution_count": 5,
   "id": "2a865aa1",
   "metadata": {},
   "outputs": [
    {
     "name": "stdout",
     "output_type": "stream",
     "text": [
      "Found 1 file(s) to process:\n",
      "- products_export - 2025-05-29T130634.709.xlsx\n",
      "\n",
      "Processing file: products_export - 2025-05-29T130634.709.xlsx\n",
      "Created: processed_zones\\МВ — Сортируемый.xlsx (38 records)\n",
      "No records found for zone: Смешанный товар - МВ — Смешанный\n",
      "No records found for zone: Опасный товар - МВ — Опасный\n",
      "No records found for zone: Несортируемый товар - МВ — Несортируемый\n",
      "No records found for zone: Закрытая зона - МВ — Закрытая\n",
      "\n",
      "All files processed! Check the 'processed_zones' folder for output files.\n"
     ]
    },
    {
     "name": "stderr",
     "output_type": "stream",
     "text": [
      "c:\\Users\\User\\Desktop\\Data\\.venv\\Lib\\site-packages\\openpyxl\\styles\\stylesheet.py:237: UserWarning: Workbook contains no default style, apply openpyxl's default\n",
      "  warn(\"Workbook contains no default style, apply openpyxl's default\")\n"
     ]
    }
   ],
   "source": [
    "import pandas as pd\n",
    "import glob\n",
    "import os\n",
    "\n",
    "def process_export_file(input_file):\n",
    "    \"\"\"Process a single products export file and split into zone files\"\"\"\n",
    "    print(f\"\\nProcessing file: {input_file}\")\n",
    "    \n",
    "    try:\n",
    "        df = pd.read_excel(input_file)\n",
    "    except Exception as e:\n",
    "        print(f\"Error reading {input_file}: {str(e)}\")\n",
    "        return\n",
    "\n",
    "    # Define the zones mapping exactly as specified\n",
    "    zones = {\n",
    "        \"Сортируемый товар\": \"МВ — Сортируемый\",\n",
    "        \"Смешанный товар\": \"МВ — Смешанный\",\n",
    "        \"Опасный товар\": \"МВ — Опасный\",\n",
    "        \"Несортируемый товар\": \"МВ — Несортируемый\",\n",
    "        \"Закрытая зона\": \"МВ — Закрытая\"\n",
    "    }\n",
    "\n",
    "    # Keep only the required columns\n",
    "    required_columns = [\"артикул\", \"имя (необязательно)\", \"количество\", \"зона размещения\"]\n",
    "    \n",
    "    # Check if all required columns exist\n",
    "    missing_cols = [col for col in required_columns if col not in df.columns]\n",
    "    if missing_cols:\n",
    "        print(f\"Warning: Missing columns in {input_file}: {', '.join(missing_cols)}\")\n",
    "        return\n",
    "\n",
    "    df = df[required_columns]\n",
    "\n",
    "    # Create output directory if it doesn't exist\n",
    "    output_dir = \"processed_zones\"\n",
    "    os.makedirs(output_dir, exist_ok=True)\n",
    "\n",
    "    # Create a separate file for each zone\n",
    "    for zone_value, output_filename in zones.items():\n",
    "        # Filter rows for the current zone\n",
    "        zone_df = df[df[\"зона размещения\"] == zone_value]\n",
    "        \n",
    "        if not zone_df.empty:\n",
    "            # Remove the zone column\n",
    "            zone_df = zone_df.drop(columns=[\"зона размещения\"])\n",
    "            \n",
    "            # Generate output filename (using exactly the specified format)\n",
    "            output_file = os.path.join(output_dir, f\"{output_filename}.xlsx\")\n",
    "            \n",
    "            # Save to Excel\n",
    "            zone_df.to_excel(output_file, index=False)\n",
    "            print(f\"Created: {output_file} ({len(zone_df)} records)\")\n",
    "        else:\n",
    "            print(f\"No records found for zone: {zone_value} - {output_filename}\")\n",
    "\n",
    "def main():\n",
    "    # Find all files starting with 'products_export' in current directory\n",
    "    input_files = glob.glob(\"products_export*.xlsx\") + glob.glob(\"products_export*.xls\")\n",
    "    \n",
    "    if not input_files:\n",
    "        print(\"No files found matching pattern 'products_export*.xlsx' or 'products_export*.xls'\")\n",
    "        return\n",
    "    \n",
    "    print(f\"Found {len(input_files)} file(s) to process:\")\n",
    "    for file in input_files:\n",
    "        print(f\"- {file}\")\n",
    "    \n",
    "    for input_file in input_files:\n",
    "        process_export_file(input_file)\n",
    "    \n",
    "    print(\"\\nAll files processed! Check the 'processed_zones' folder for output files.\")\n",
    "\n",
    "if __name__ == \"__main__\":\n",
    "    main()"
   ]
  }
 ],
 "metadata": {
  "kernelspec": {
   "display_name": ".venv",
   "language": "python",
   "name": "python3"
  },
  "language_info": {
   "codemirror_mode": {
    "name": "ipython",
    "version": 3
   },
   "file_extension": ".py",
   "mimetype": "text/x-python",
   "name": "python",
   "nbconvert_exporter": "python",
   "pygments_lexer": "ipython3",
   "version": "3.13.2"
  }
 },
 "nbformat": 4,
 "nbformat_minor": 5
}
