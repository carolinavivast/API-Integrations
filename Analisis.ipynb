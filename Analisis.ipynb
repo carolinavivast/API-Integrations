{
 "cells": [
  {
   "cell_type": "code",
   "execution_count": null,
   "id": "bad3ac4b",
   "metadata": {},
   "outputs": [],
   "source": [
    "import pandas as pd\n",
    "\n",
    "# Ejemplo de filtrado (ajusta según tus columnas)\n",
    "df[\"Остаток FBO на конец периода\"] = pd.to_numeric(df[\"Остаток FBO на конец периода\"], errors=\"coerce\")\n",
    "\n",
    "# Productos con stock agotado (último mes)\n",
    "sin_stock = df[df[\"Остаток FBO на конец периода\"] == 0]\n",
    "\n",
    "# Productos con ventas altas en meses previos pero caída reciente\n",
    "productos_problematicos = df[\n",
    "    (df[\"Заказано (шт)\"] > 5) &  # Ventas altas en algún mes\n",
    "    (df[\"Заказано (шт) % изменение\"] < -0.5)  # Caída del 50%+\n",
    "]\n",
    "\n",
    "print(productos_problematicos[[\"Код товара\", \"ProductName\", \"Заказано (шт)\", \"Остаток FBO на конец периода\"]])"
   ]
  }
 ],
 "metadata": {
  "language_info": {
   "name": "python"
  }
 },
 "nbformat": 4,
 "nbformat_minor": 5
}
