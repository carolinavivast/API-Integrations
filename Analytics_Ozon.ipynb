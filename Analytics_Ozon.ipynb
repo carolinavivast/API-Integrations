{
 "cells": [
  {
   "cell_type": "markdown",
   "metadata": {},
   "source": [
    "# Данные аналитики\n"
   ]
  },
  {
   "cell_type": "markdown",
   "metadata": {},
   "source": [
    "https://docs.ozon.ru/api/seller/#operation/AnalyticsAPI_AnalyticsGetData \n",
    "Уĸажите период и метриĸи, ĸоторые нужно посчитать. В ответе будет аналитиĸа, сгруппированная по параметру dimensions.\n",
    "\n",
    "Для продавцов без Premium-подписки:\n",
    "\n",
    "доступны данные за последние 3 месяца,\n",
    "есть ограничения по способам группировки данных и метрикам.\n",
    "Для продавцов с Premium-подпиской ограничений нет.\n",
    "\n",
    "Метод можно использовать не больше 1 раза в минуту. Соответствует разделу Аналитика → Графики в личном кабинете."
   ]
  },
  {
   "cell_type": "code",
   "execution_count": 10,
   "metadata": {},
   "outputs": [
    {
     "data": {
      "text/plain": [
       "True"
      ]
     },
     "execution_count": 10,
     "metadata": {},
     "output_type": "execute_result"
    }
   ],
   "source": [
    "import requests\n",
    "import json\n",
    "import pandas as pd\n",
    "from clickhouse_connect import get_client\n",
    "from datetime import date, timedelta, datetime\n",
    "from dotenv import load_dotenv\n",
    "import os\n",
    "import time\n",
    "\n",
    "load_dotenv()"
   ]
  },
  {
   "cell_type": "code",
   "execution_count": 11,
   "metadata": {},
   "outputs": [],
   "source": [
    "# Retrieve API keys from environment variables\n",
    "KeyGuten_Ozon = os.getenv('KeyGuten_Ozon')\n",
    "IdGuten_Ozon = os.getenv('IdGuten_Ozon')\n"
   ]
  },
  {
   "cell_type": "code",
   "execution_count": null,
   "metadata": {},
   "outputs": [
    {
     "name": "stdout",
     "output_type": "stream",
     "text": [
      "Error making request: 400 Client Error: Bad Request for url: https://api-seller.ozon.ru/v1/analytics/data\n",
      "Failed to retrieve analytics data\n"
     ]
    }
   ],
   "source": [
    "class OzonAnalyticsClient:\n",
    "    def __init__(self, client_id, api_key):\n",
    "        self.base_url = \"https://api-seller.ozon.ru\"\n",
    "        self.headers = {\n",
    "            \"Client-Id\": IdGuten_Ozon,\n",
    "            \"Api-Key\":KeyGuten_Ozon,\n",
    "            \"Content-Type\": \"application/json\"\n",
    "        }\n",
    "\n",
    "    def get_analytics_data(self, date_from, date_to, dimensions, metrics, limit, \n",
    "                         sort):\n",
    "        \"\"\"\n",
    "        Get analytics data from Ozon API\n",
    "        \n",
    "        Args:\n",
    "            date_from (str): Start date in YYYY-MM-DD format\n",
    "            date_to (str): End date in YYYY-MM-DD format\n",
    "            dimensions (list): List of dimension strings (e.g., ['day', 'sku'])\n",
    "            metrics (list): List of metric strings (e.g., ['revenue', 'ordered_units'])\n",
    "            limit (int): Number of results (1-1000)\n",
    "            sort (list, optional): List of sort objects\n",
    "            \n",
    "        Returns:\n",
    "            dict: API response\n",
    "        \"\"\"\n",
    "        endpoint = \"/v1/analytics/data\"\n",
    "        url = self.base_url + endpoint\n",
    "        \n",
    "        # Validate dates\n",
    "        try:\n",
    "            datetime.strptime(date_from, \"%Y-%m-%d\")\n",
    "            datetime.strptime(date_to, \"%Y-%m-%d\")\n",
    "        except ValueError:\n",
    "            raise ValueError(\"Dates must be in YYYY-MM-DD format\")\n",
    "        \n",
    "        # Prepare request body\n",
    "        payload = {\n",
    "            \"date_from\": date_from,\n",
    "            \"date_to\": date_to,\n",
    "            \"dimension\": dimensions,\n",
    "            \"metrics\": metrics,\n",
    "            \"limit\": limit\n",
    "        }\n",
    "\n",
    "        if sort is not None:\n",
    "            payload[\"sort\"] = sort\n",
    "            \n",
    "        try:\n",
    "            response = requests.post(url, headers=self.headers, data=json.dumps(payload))\n",
    "            response.raise_for_status()\n",
    "            return response.json()\n",
    "        except requests.exceptions.RequestException as e:\n",
    "            print(f\"Error making request: {e}\")\n",
    "            return None\n",
    "\n",
    "# Example usage\n",
    "if __name__ == \"__main__\":\n",
    "    # Initialize client with your credentials\n",
    "    CLIENT_ID = IdGuten_Ozon\n",
    "    API_KEY = KeyGuten_Ozon\n",
    "    client = OzonAnalyticsClient(CLIENT_ID, API_KEY)\n",
    "    \n",
    "    # Prepare request parameters\n",
    "    request_params = {\n",
    "        \"date_from\": \"2025-01-01\",\n",
    "        \"date_to\": \"2025-03-23\",\n",
    "        \"dimensions\": [\"day\", \"sku\"],\n",
    "        \"metrics\": [\"revenue\", \"ordered_units\",\"hits_view_search\", \"hits_view_pdp\", \"hits_view\", \"hits_tocart_search\", \"hits_tocart_pdp\", \n",
    "                    \"hits_tocart\", \"session_view_search\", \"session_view_pdp\", \"session_view\", \"conv_tocart_search\", \"conv_tocart_pdp\", \"conv_tocart\",\n",
    "                    \"returns\", \"cancellations\", \"delivered_units\", \"position_category\"],\n",
    "        \"limit\" : 1000,\n",
    "        \"sort\": [{\"key\": \"revenue\", \"order\": \"DESC\"}]\n",
    "    }\n",
    "    \n",
    "    # Get analytics data\n",
    "    analytics_data = client.get_analytics_data(**request_params)\n",
    "    \n",
    "    if analytics_data:\n",
    "        print(\"Successfully retrieved analytics data:\")\n",
    "        print(json.dumps(analytics_data, indent=2, ensure_ascii=False))\n",
    "    else:\n",
    "        print(\"Failed to retrieve analytics data\")"
   ]
  },
  {
   "cell_type": "markdown",
   "metadata": {},
   "source": [
    "\"hits_view_search\", \"hits_view_pdp\", \"hits_view\", \"hits_tocart_search\", \"hits_tocart_pdp\", \"hits_tocart\", \"session_view_search\", \"session_view_pdp\", \"session_view\", \"conv_tocart_search\", \"conv_tocart_pdp\", \"conv_tocart\", \"returns\", \"cancellations\", \"delivered_units\", \"position_category\""
   ]
  },
  {
   "cell_type": "markdown",
   "metadata": {},
   "source": []
  }
 ],
 "metadata": {
  "kernelspec": {
   "display_name": ".venv",
   "language": "python",
   "name": "python3"
  },
  "language_info": {
   "codemirror_mode": {
    "name": "ipython",
    "version": 3
   },
   "file_extension": ".py",
   "mimetype": "text/x-python",
   "name": "python",
   "nbconvert_exporter": "python",
   "pygments_lexer": "ipython3",
   "version": "3.13.2"
  }
 },
 "nbformat": 4,
 "nbformat_minor": 2
}
