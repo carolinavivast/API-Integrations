{
 "cells": [
  {
   "cell_type": "code",
   "execution_count": 36,
   "id": "8916c025",
   "metadata": {},
   "outputs": [
    {
     "data": {
      "text/plain": [
       "True"
      ]
     },
     "execution_count": 36,
     "metadata": {},
     "output_type": "execute_result"
    }
   ],
   "source": [
    "import requests\n",
    "import json\n",
    "import pandas as pd\n",
    "from clickhouse_connect import get_client\n",
    "from datetime import date, timedelta, datetime\n",
    "from dotenv import load_dotenv\n",
    "import os\n",
    "import time\n",
    "\n",
    "load_dotenv()"
   ]
  },
  {
   "cell_type": "code",
   "execution_count": 37,
   "id": "92f57036",
   "metadata": {},
   "outputs": [],
   "source": [
    "# Retrieve API keys from environment variables\n",
    "KeyGuten_Ozon = os.getenv('KeyGuten_Ozon')\n",
    "IdGuten_Ozon = os.getenv('IdGuten_Ozon')\n",
    "ClientId_guten = os.getenv('ClientId_guten')\n",
    "ClientSecret_guten = os.getenv('ClientSecret_guten')"
   ]
  },
  {
   "cell_type": "code",
   "execution_count": 38,
   "id": "e2ba2bae",
   "metadata": {},
   "outputs": [
    {
     "name": "stdout",
     "output_type": "stream",
     "text": [
      "074c4d91-d494-49e0-89f9-89383ecb99d6 1547\n"
     ]
    }
   ],
   "source": [
    "print(KeyGuten_Ozon,IdGuten_Ozon)"
   ]
  },
  {
   "cell_type": "code",
   "execution_count": 40,
   "id": "11afd88d",
   "metadata": {},
   "outputs": [
    {
     "name": "stdout",
     "output_type": "stream",
     "text": [
      "Failed to obtain cluster info: 400 {\"code\":3,\"message\":\"Implementation.DraftClusterList error: rpc error: code = InvalidArgument desc = invalid cluster type\",\"details\":[]}\n"
     ]
    }
   ],
   "source": [
    "import requests\n",
    "\n",
    "# Define the endpoint URL\n",
    "url = \"https://api-seller.ozon.ru/v1/cluster/list\"\n",
    "\n",
    "# Define the request headers\n",
    "headers = {\n",
    "    \"Client-Id\": IdGuten_Ozon,  # Replace with your actual client ID\n",
    "    \"Api-Key\": KeyGuten_Ozon,      # Replace with your actual API key\n",
    "    \"Content-Type\": \"application/json\"\n",
    "}\n",
    "\n",
    "# Define the query parameters\n",
    "params = {\n",
    "    \"cluster_type\": \"CLUSTER_TYPE_OZON\"\n",
    "}\n",
    "\n",
    "# Send the GET request\n",
    "response = requests.post(url, headers=headers, params=params)\n",
    "\n",
    "# Check the response\n",
    "if response.status_code == 200:\n",
    "    cluster_info = response.json()\n",
    "    print(\"Cluster Information:\", cluster_info)\n",
    "else:\n",
    "    print(\"Failed to obtain cluster info:\", response.status_code, response.text)\n"
   ]
  }
 ],
 "metadata": {
  "kernelspec": {
   "display_name": ".venv",
   "language": "python",
   "name": "python3"
  },
  "language_info": {
   "codemirror_mode": {
    "name": "ipython",
    "version": 3
   },
   "file_extension": ".py",
   "mimetype": "text/x-python",
   "name": "python",
   "nbconvert_exporter": "python",
   "pygments_lexer": "ipython3",
   "version": "3.13.2"
  }
 },
 "nbformat": 4,
 "nbformat_minor": 5
}
